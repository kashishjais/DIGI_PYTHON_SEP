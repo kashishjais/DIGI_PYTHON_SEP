{
 "cells": [
  {
   "cell_type": "code",
   "execution_count": 1,
   "metadata": {},
   "outputs": [
    {
     "name": "stderr",
     "output_type": "stream",
     "text": [
      "\n",
      "\n",
      "====== WebDriver manager ======\n",
      "Current google-chrome version is 92.0.4515\n",
      "Get LATEST chromedriver version for 92.0.4515 google-chrome\n",
      "Driver [C:\\Users\\USER\\.wdm\\drivers\\chromedriver\\win32\\92.0.4515.107\\chromedriver.exe] found in cache\n",
      "C:\\Users\\USER\\AppData\\Local\\Temp/ipykernel_13660/104647403.py:3: DeprecationWarning: executable_path has been deprecated, please pass in a Service object\n",
      "  driver=webdriver.Chrome(ChromeDriverManager().install())\n"
     ]
    }
   ],
   "source": [
    "from selenium import webdriver\n",
    "from webdriver_manager.chrome import ChromeDriverManager\n",
    "driver=webdriver.Chrome(ChromeDriverManager().install())\n",
    "from selenium.webdriver.common.keys import Keys\n"
   ]
  },
  {
   "cell_type": "code",
   "execution_count": 2,
   "metadata": {},
   "outputs": [],
   "source": [
    "def get_fkrt_addr(query='bags',start_pos=1):\n",
    "    url='http://www.flipkart.com/search'\n",
    "    param1=f'q={query}'\n",
    "    param2=f'page={start_pos}'\n",
    "    return f'{url}?{param1}&{param2}'\n",
    "    "
   ]
  },
  {
   "cell_type": "code",
   "execution_count": 3,
   "metadata": {},
   "outputs": [],
   "source": [
    "driver.get(get_fkrt_addr('watches'))"
   ]
  },
  {
   "cell_type": "code",
   "execution_count": 4,
   "metadata": {},
   "outputs": [
    {
     "name": "stderr",
     "output_type": "stream",
     "text": [
      "C:\\Users\\USER\\AppData\\Local\\Temp/ipykernel_12344/138420656.py:1: DeprecationWarning: find_elements_by_* commands are deprecated. Please use find_elements() instead\n",
      "  headings=driver.find_elements_by_css_selector('div._2WkVRV')\n"
     ]
    },
    {
     "name": "stdout",
     "output_type": "stream",
     "text": [
      "Blue Pearl\n",
      "CRAB\n",
      "hrnt\n",
      "ALOGO\n",
      "Rizzly\n",
      "SKMEI\n",
      "XN XEEZOS\n",
      "EDDY HAGER\n",
      "FOXTER\n",
      "LOIS CARON\n",
      "hala\n",
      "ANALOGUE\n",
      "hala\n",
      "YOUTH CLUB\n",
      "CRAB\n",
      "SKMEI\n",
      "Happy Khajana\n",
      "WHITE STONE\n",
      "hala\n",
      "Fogg\n",
      "Rizzly\n",
      "SKMEI\n",
      "SSA\n",
      "Rage Enterprise\n",
      "FOXTER\n",
      "LIMESTONE\n",
      "Fogg\n",
      "LIMESTONE\n",
      "MIKADO\n",
      "just like\n",
      "Happy Khajana\n",
      "EDDY HAGER\n",
      "HMTr\n",
      "hala\n",
      "ANALOGUE\n",
      "Fastrack\n",
      "LIMESTONE\n",
      "SPINOZA\n",
      "Happy Khajana\n",
      "LOIS CARON\n"
     ]
    }
   ],
   "source": [
    "headings=driver.find_elements_by_css_selector('div._2WkVRV')\n",
    "for h in headings:print(h.text)"
   ]
  },
  {
   "cell_type": "code",
   "execution_count": 5,
   "metadata": {},
   "outputs": [
    {
     "data": {
      "text/plain": [
       "40"
      ]
     },
     "execution_count": 5,
     "metadata": {},
     "output_type": "execute_result"
    }
   ],
   "source": [
    "len(headings)"
   ]
  },
  {
   "cell_type": "code",
   "execution_count": 6,
   "metadata": {},
   "outputs": [],
   "source": [
    "data=[]\n",
    "def extract_page_data(driver):\n",
    "    cards=driver.find_elements_by_css_selector('div._1xHGtK._373qXS')\n",
    "    if len(cards)>0:\n",
    "        for item in cards:\n",
    "            data.append(dict(\n",
    "                brand=item.find_element_by_css_selector('div._2WkVRV').text,\n",
    "                title=item.find_element_by_css_selector('a.IRpwTa').text,\n",
    "                price=item.find_element_by_css_selector('div._30jeq3').text,\n",
    "            ))\n",
    "    return data        \n",
    "            \n"
   ]
  },
  {
   "cell_type": "code",
   "execution_count": 7,
   "metadata": {},
   "outputs": [],
   "source": [
    "all_data=[]\n",
    "def get_flipkart_data(search='bags',pos=1):\n",
    "    \n",
    "    while(True):\n",
    "        addr=get_fkrt_addr(search,pos)\n",
    "        driver.get(addr)\n",
    "        data=extract_page_data(driver)\n",
    "        if len(data):\n",
    "            all_data.extend(data)\n",
    "            pos+=1\n",
    "        else:\n",
    "            break\n",
    "    return all_data            "
   ]
  },
  {
   "cell_type": "code",
   "execution_count": null,
   "metadata": {},
   "outputs": [],
   "source": []
  }
 ],
 "metadata": {
  "interpreter": {
   "hash": "b89b5cfaba6639976dc87ff2fec6d58faec662063367e2c229c520fe71072417"
  },
  "kernelspec": {
   "display_name": "Python 3.10.0 64-bit",
   "language": "python",
   "name": "python3"
  },
  "language_info": {
   "codemirror_mode": {
    "name": "ipython",
    "version": 3
   },
   "file_extension": ".py",
   "mimetype": "text/x-python",
   "name": "python",
   "nbconvert_exporter": "python",
   "pygments_lexer": "ipython3",
   "version": "3.10.0"
  },
  "orig_nbformat": 4
 },
 "nbformat": 4,
 "nbformat_minor": 2
}
